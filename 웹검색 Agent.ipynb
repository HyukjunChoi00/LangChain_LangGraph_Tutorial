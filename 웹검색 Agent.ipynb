{
 "cells": [
  {
   "cell_type": "markdown",
   "id": "fc661499-9ab8-45b6-a2cd-a20ad3ce805d",
   "metadata": {},
   "source": [
    "## 웹검색 코드를 LangChain Tool 형식으로 전환"
   ]
  },
  {
   "cell_type": "markdown",
   "id": "0b5b05c3-8c41-4ca8-b4e6-ac8ff9fe711c",
   "metadata": {},
   "source": [
    "#### 기존 코드"
   ]
  },
  {
   "cell_type": "code",
   "execution_count": 2,
   "id": "c464f8b2-1532-47ba-81df-4134f05cce8b",
   "metadata": {},
   "outputs": [
    {
     "name": "stdout",
     "output_type": "stream",
     "text": [
      "🚀 Tesla 기사 제목 추출 시작!\n",
      "\n",
      "📰 발견된 Tesla 기사: 15개\n",
      "\n",
      "================================================================================\n",
      " 1. Mexico’s 50% Tariff Threatens Tesla and BYD in Booming EV Market\n",
      "    🔗 https://econotimes.com/Mexicos-50-Tariff-Threatens-Tesla-and-BYD-in-Booming-EV-Market-1720504\n",
      " 2. Tesla Ordered to Pay $243M in Florida Autopilot Crash Verdict\n",
      "    🔗 https://econotimes.com/Tesla-Ordered-to-Pay-243M-in-Florida-Autopilot-Crash-Verdict-1717846\n",
      " 3. Tesla Car Sales in France, Denmark, and Sweden Plunge in July Amid Ongoing European Decline\n",
      "    🔗 https://econotimes.com/Tesla-Car-Sales-in-France-Denmark-and-Sweden-Plunge-in-July-Amid-Ongoing-European-Decline-1717783\n",
      " 4. Tesla Secures $4.3B Battery Deal with LG Energy for U.S. Storage Projects\n",
      "    🔗 https://econotimes.com/Tesla-Secures-43B-Battery-Deal-with-LG-Energy-for-US-Storage-Projects-1717488\n",
      " 5. Samsung Shares Dip After Rally on $16.5B Tesla Chip Deal\n",
      "    🔗 https://econotimes.com/Samsung-Shares-Dip-After-Rally-on-165B-Tesla-Chip-Deal-1717364\n",
      " 6. Tesla Inks $16.5B Chip Deal with Samsung for Next-Gen AI6 Production in Texas\n",
      "    🔗 https://econotimes.com/Tesla-Inks-165B-Chip-Deal-with-Samsung-for-Next-Gen-AI6-Production-in-Texas-1717282\n",
      " 7. Tesla Inks $16.5B Chip Deal with Samsung to Boost AI Chip Production\n",
      "    🔗 https://econotimes.com/Tesla-Inks-165B-Chip-Deal-with-Samsung-to-Boost-AI-Chip-Production-1717253\n",
      " 8. Tesla Prepares Robotaxi Launch in Bay Area with Safety Drivers Amid Regulatory Hurdles\n",
      "    🔗 https://econotimes.com/Tesla-Prepares-Robotaxi-Launch-in-Bay-Area-with-Safety-Drivers-Amid-Regulatory-Hurdles-1717201\n",
      " 9. Tesla to Launch Chauffeur-Style Service in Bay Area Amid Robotaxi Delays\n",
      "    🔗 https://econotimes.com/Tesla-to-Launch-Chauffeur-Style-Service-in-Bay-Area-Amid-Robotaxi-Delays-1717164\n",
      "10. Tesla Receives Shareholder Proposals on Potential xAI Investment\n",
      "    🔗 https://econotimes.com/Tesla-Receives-Shareholder-Proposals-on-Potential-xAI-Investment-1717159\n",
      "11. Tesla Faces Revenue Slump Amid EV Credit Cuts, Musk Bets on Robotaxi Future\n",
      "    🔗 https://econotimes.com/Tesla-Faces-Revenue-Slump-Amid-EV-Credit-Cuts-Musk-Bets-on-Robotaxi-Future-1716928\n",
      "12. U.S. Senate to Vote on Trump’s Auto Safety Nominee Amid Tesla Probe\n",
      "    🔗 https://econotimes.com/US-Senate-to-Vote-on-Trumps-Auto-Safety-Nominee-Amid-Tesla-Probe-1716924\n",
      "13. U.S. Futures Rise After Trump’s Japan Trade Deal, Tesla and Alphabet Earnings in Focus\n",
      "    🔗 https://econotimes.com/US-Futures-Rise-After-Trumps-Japan-Trade-Deal-Tesla-and-Alphabet-Earnings-in-Focus-1716804\n",
      "14. Tesla Q2 Deliveries Beat Forecasts, But Deutsche Bank Warns on 2025 Outlook\n",
      "    🔗 https://econotimes.com/Tesla-Q2-Deliveries-Beat-Forecasts-But-Deutsche-Bank-Warns-on-2025-Outlook-1716507\n",
      "15. Tesla Launches Model Y in India With Starting Price of ₹59.89 Lakh\n",
      "    🔗 https://econotimes.com/Tesla-Launches-Model-Y-in-India-With-Starting-Price-of-5989-Lakh-1716074\n",
      "================================================================================\n",
      "✅ 총 15개의 기사 제목 추출 완료!\n"
     ]
    }
   ],
   "source": [
    "import asyncio\n",
    "from playwright.async_api import async_playwright\n",
    "\n",
    "async with async_playwright() as p:\n",
    "    print(\"🚀 Tesla 기사 제목 추출 시작!\")\n",
    "    \n",
    "    # 브라우저 실행\n",
    "    browser = await p.chromium.launch(headless=True)\n",
    "    page = await browser.new_page()\n",
    "    \n",
    "    # Tesla 검색 페이지로 이동\n",
    "    await page.goto(\"https://econotimes.com/search?v=tesla&search=\")\n",
    "    await asyncio.sleep(3)\n",
    "\n",
    "\n",
    "    # XPath를 사용해서 모든 기사 제목 요소 찾기\n",
    "    general_xpath = '//*[@id=\"archivePage\"]/div/div[2]/div/p[1]/a'\n",
    "    elements = await page.locator(f\"xpath={general_xpath}\").all()\n",
    "    \n",
    "    print(f\"\\n📰 발견된 Tesla 기사: {len(elements)}개\\n\")\n",
    "    print(\"=\" * 80)\n",
    "    \n",
    "    # 각 기사 제목 추출하고 출력\n",
    "    for i, element in enumerate(elements, 1):\n",
    "        try:\n",
    "            # 기사 제목 텍스트 추출\n",
    "            title = await element.text_content()\n",
    "            href = await element.get_attribute('href')\n",
    "            if title and href:\n",
    "                # 상대 URL을 절대 URL로 변환\n",
    "                if href.startswith('/'):\n",
    "                    full_url = f\"https://econotimes.com{href}\"  #href가 \n",
    "                else:\n",
    "                    full_url = href\n",
    "            \n",
    "            if title:\n",
    "                # 제목 출력\n",
    "                print(f\"{i:2d}. {title.strip()}\")\n",
    "                print(f\"    🔗 {full_url}\")\n",
    "\n",
    "            \n",
    "        except Exception as e:\n",
    "            print(f\"{i:2d}. ❌ 추출 실패: {e}\")\n",
    "    \n",
    "    print(\"=\" * 80)\n",
    "    print(f\"✅ 총 {len(elements)}개의 기사 제목 추출 완료!\")\n",
    "    \n",
    "    # 브라우저 종료\n",
    "    await browser.close()"
   ]
  },
  {
   "cell_type": "code",
   "execution_count": 13,
   "id": "e6e7d388-ff3d-49c5-8c35-924d4536b5fe",
   "metadata": {},
   "outputs": [
    {
     "name": "stdout",
     "output_type": "stream",
     "text": [
      "🚀 Tesla 기사 제목 추출 시작!\n"
     ]
    }
   ],
   "source": [
    "import asyncio\n",
    "from playwright.async_api import async_playwright\n",
    "\n",
    "async with async_playwright() as p:\n",
    "    print(\"🚀 Tesla 기사 제목 추출 시작!\")\n",
    "    \n",
    "    output_list = [] # 결과를 저장할 list 정의\n",
    "    urls = []\n",
    "\n",
    "    \n",
    "    # 브라우저 실행\n",
    "    browser = await p.chromium.launch(headless=True)\n",
    "    page = await browser.new_page()\n",
    "    \n",
    "    # Tesla 검색 페이지로 이동\n",
    "    await page.goto(\"https://econotimes.com/search?v=tesla&search=\")\n",
    "    await asyncio.sleep(3)\n",
    "\n",
    "\n",
    "    # XPath를 사용해서 모든 기사 제목 요소 찾기\n",
    "    general_xpath = '//*[@id=\"archivePage\"]/div/div[2]/div/p[1]/a'\n",
    "    elements = await page.locator(f\"xpath={general_xpath}\").all()\n",
    "    \n",
    "    # 각 기사 제목 추출하고 출력\n",
    "    for i, element in enumerate(elements, 1):\n",
    "        try:\n",
    "            # 기사 제목 텍스트 추출\n",
    "            title = await element.text_content()\n",
    "            href = await element.get_attribute('href')\n",
    "            if title and href:\n",
    "                # 상대 URL을 절대 URL로 변환\n",
    "                if href.startswith('/'):\n",
    "                    full_url = f\"https://econotimes.com{href}\"\n",
    "                else:\n",
    "                    full_url = href\n",
    "                urls.append(full_url)\n",
    "            \n",
    "            if title:\n",
    "                title = title.strip()\n",
    "                \n",
    "        except Exception as e:\n",
    "            print(f\"{i:2d}. ❌ 추출 실패: {e}\")\n",
    "\n",
    "    for url in urls :\n",
    "        await page.goto(url)\n",
    "        await asyncio.sleep(1.5)\n",
    "        # 본문 추출 (copy selector)\n",
    "        article_text = await page.locator(\"#view > div.articleViewWrap > div.articleContent > article\").text_content()\n",
    "        article_text = article_text.strip()\n",
    "\n",
    "        \n",
    "    output_list.append({'title' : title,\n",
    "                        'URL' : full_url,\n",
    "                        'body_content' : article_text})\n",
    "\n",
    "    # 브라우저 종료\n",
    "    await browser.close()"
   ]
  },
  {
   "cell_type": "code",
   "execution_count": 14,
   "id": "d9080036-9253-4556-b9ca-62df9db342f5",
   "metadata": {},
   "outputs": [
    {
     "data": {
      "text/plain": [
       "[{'title': 'Tesla Launches Model Y in India With Starting Price of ₹59.89 Lakh',\n",
       "  'URL': 'https://econotimes.com/Tesla-Launches-Model-Y-in-India-With-Starting-Price-of-5989-Lakh-1716074',\n",
       "  'body_content': 'Tesla Inc (NASDAQ:TSLA) has officially launched its Model Y in India, listing prices starting at ₹59.89 lakh (approx. $69,700) for the rear-wheel drive variant. The long-range version is priced at ₹67.89 lakh, according to Tesla’s India website. These prices, which exclude taxes, are significantly higher than the Model Y’s U.S. base price of $44,490 and Bloomberg’s reported $56,000 sticker price. The vehicles will be imported from Tesla’s Shanghai Gigafactory in China. Sales will initially be limited to New Delhi and Mumbai, where Tesla is also opening its first Indian showrooms this July. The Mumbai showroom is expected to open this week, followed by a New Delhi location by month-end. Despite the launch, Tesla has no current plans to set up local manufacturing in India. Previous discussions with the Indian government on factory establishment failed to produce a deal, leaving Tesla reliant on imports that incur steep duties—contributing to the higher price tag. Tesla’s entry into India comes amid slowing sales in its key markets, including the U.S., China, and Europe, prompting the EV giant to explore new growth avenues. However, the Indian EV market presents challenges. Local automakers like Tata Motors (NSE:TAMO) and Mahindra & Mahindra (NSE:MAHM) offer competitively priced EVs that cater to the price-sensitive Indian consumer. Tesla will also face stiff competition in the premium EV segment from China’s BYD Co Ltd (HK:1211), which has an established presence and growing footprint in India. With no local production and a premium price point, Tesla’s success in the Indian market will hinge on brand appeal and luxury positioning rather than affordability.'}]"
      ]
     },
     "execution_count": 14,
     "metadata": {},
     "output_type": "execute_result"
    }
   ],
   "source": [
    "output_list"
   ]
  },
  {
   "cell_type": "markdown",
   "id": "a2fdbb46-c35c-4e55-b018-b315f924c2e9",
   "metadata": {},
   "source": [
    "#### 함수로 전환"
   ]
  },
  {
   "cell_type": "code",
   "execution_count": 33,
   "id": "8214ed3d-344a-432f-9a5d-c8a673011117",
   "metadata": {},
   "outputs": [],
   "source": [
    "import asyncio\n",
    "from playwright.async_api import async_playwright\n",
    "\n",
    "async def scrape_tesla_articles_with_content(query: str):\n",
    "    \"\"\"Econotimes에서 관련 기사 제목, URL, 본문을 스크랩하는 함수\"\"\"\n",
    "    \n",
    "    \n",
    "    output_list = [] # 최종 결과를 저장할 리스트\n",
    "\n",
    "    async with async_playwright() as p:\n",
    "        # 브라우저 실행\n",
    "        browser = await p.chromium.launch(headless=True)\n",
    "        page = await browser.new_page()\n",
    "\n",
    "        await page.goto(f\"https://econotimes.com/search?v={query}&search=\")\n",
    "        await asyncio.sleep(1.5)\n",
    "\n",
    "        # XPath를 사용해서 모든 기사 제목 요소 찾기\n",
    "        general_xpath = '//*[@id=\"archivePage\"]/div/div[2]/div/p[1]/a'\n",
    "        elements = await page.locator(f\"xpath={general_xpath}\").all()\n",
    "\n",
    "\n",
    "        # 각 기사 제목과 링크 추출\n",
    "        for element in elements[:4]:\n",
    "            await page.goto(f\"https://econotimes.com/search?v={query}&search=\")\n",
    "            await asyncio.sleep(1.5)\n",
    "\n",
    "            title = await element.text_content()\n",
    "            title = title.strip()\n",
    "            href = await element.get_attribute('href')\n",
    "            full_url = f\"https://econotimes.com{href}\" if href.startswith('/') else href\n",
    "            await page.goto(full_url)\n",
    "            await asyncio.sleep(1.5)\n",
    "            # XPath로 본문 추출\n",
    "            xpath = '//*[@id=\"view\"]/div[2]/div[3]/article'\n",
    "            article_text = await page.locator(f\"xpath={xpath}\").text_content()\n",
    "            article_text = article_text.strip()\n",
    "            \n",
    "\n",
    "            output_list.append({\n",
    "                'title': title,\n",
    "                'URL': full_url,\n",
    "                'body_content' : article_text\n",
    "            })\n",
    "\n",
    "\n",
    "        \n",
    "        # 브라우저 종료\n",
    "        await browser.close()\n",
    "        \n",
    "        print(\"\\n\" + \"=\" * 80)\n",
    "        print(f\"✅ 총 {len(output_list)}개의 기사 본문 추출 완료!\")\n",
    "        print(\"=\" * 80)\n",
    "        return output_list"
   ]
  },
  {
   "cell_type": "markdown",
   "id": "7e6a19fb-bb1a-4e1d-ad67-2d481caacde7",
   "metadata": {},
   "source": [
    "#### 함수가 잘 작동하는지 테스트"
   ]
  },
  {
   "cell_type": "code",
   "execution_count": 34,
   "id": "f54f56bc-b133-4cf4-ab20-2bd984060495",
   "metadata": {},
   "outputs": [
    {
     "name": "stdout",
     "output_type": "stream",
     "text": [
      "\n",
      "================================================================================\n",
      "✅ 총 4개의 기사 본문 추출 완료!\n",
      "================================================================================\n",
      "[{'title': 'Mexico’s 50% Tariff Threatens Tesla and BYD in Booming EV Market', 'URL': 'https://econotimes.com/Mexicos-50-Tariff-Threatens-Tesla-and-BYD-in-Booming-EV-Market-1720504', 'body_content': 'Mexico’s proposed 50% tariff on vehicles imported from countries without free trade agreements, including China, could deal a major blow to Tesla and BYD while sparing U.S. automakers Ford, GM, and Stellantis. Industry experts say the measure mainly targets Chinese-manufactured electric cars, which have rapidly gained traction in Mexico’s fast-growing EV market. Over the past year, Mexico has raised tariffs on Chinese-made EVs from 0% to 15%, and now plans to raise them to 50%. Eugenio Grandio, president of the Electric Mobility Association in Mexico, called it a “game-changer.” The proposal still awaits approval from Mexico’s Congress, but Morena’s majority makes passage likely. While the tariff is broad, legacy U.S. automakers are protected by a 2003 decree allowing them to import a percentage of vehicles tariff-free thanks to their production plants in Mexico. Tesla and BYD, lacking factories in the country, would be hit hardest. Tesla suspended plans for a massive plant in northern Mexico in 2024, while BYD abandoned its factory project due to political and trade concerns. Tesla currently imports all its Model 3 and Model Y cars for Mexico from its Shanghai plant, though it may rely on stockpiles and other global factories to soften the impact. BYD, despite scrapping its plant, sold 40,000 cars in Mexico in 2024—nearly half of all EVs sold—and doubled its sales pace in 2025. However, higher tariffs could threaten its competitive pricing, built on Chinese subsidies and low labor costs. China urged Mexico to reconsider, warning of damage to bilateral trade, while U.S. industry groups welcomed the move, saying it boosts North American automakers’ ability to compete.'}, {'title': 'Tesla Ordered to Pay $243M in Florida Autopilot Crash Verdict', 'URL': 'https://econotimes.com/Tesla-Ordered-to-Pay-243M-in-Florida-Autopilot-Crash-Verdict-1717846', 'body_content': 'A Florida jury has ordered Tesla (NASDAQ: TSLA) to pay $243 million in damages over a 2019 fatal crash involving its Autopilot system, marking a rare legal defeat for the electric vehicle maker. The case centered on a Model S collision that killed Naibel Benavides Leon and severely injured Dillon Angulo. Jurors in Miami federal court awarded $129 million in compensatory damages and $200 million in punitive damages, holding Tesla liable for 33% of the compensatory amount, or $42.6 million. The driver, George McGee, was found 67% liable but is not required to pay damages. The lawsuit alleged Tesla failed to limit Autopilot’s use to controlled-access highways, despite CEO Elon Musk’s public claims that the system drove better than humans. The crash occurred when McGee, distracted by a dropped cellphone, ran a stop sign and collided with the victims’ parked SUV. Tesla denied responsibility and vowed to appeal, arguing no vehicle in 2019—or today—could have prevented the accident and asserting the driver was solely at fault. Legal experts say the ruling could set a precedent, encouraging more lawsuits over Tesla’s driver-assistance technology. It comes as the company faces heightened scrutiny of its self-driving claims and a challenging EV market, with shares down 25% this year. The verdict may also impact Musk’s ambitious plans to expand Tesla’s robotaxi business and autonomous driving program, key drivers of the company’s nearly $1 trillion valuation. This is the first jury verdict holding Tesla liable for a fatal crash linked to Autopilot, raising questions about the safety and regulation of semi-autonomous vehicles as Tesla accelerates development of AI-driven transportation.'}, {'title': 'Tesla Car Sales in France, Denmark, and Sweden Plunge in July Amid Ongoing European Decline', 'URL': 'https://econotimes.com/Tesla-Car-Sales-in-France-Denmark-and-Sweden-Plunge-in-July-Amid-Ongoing-European-Decline-1717783', 'body_content': 'Tesla Inc. (NASDAQ: TSLA) saw its car sales drop sharply in France, Denmark, and Sweden in July 2025, extending a seven-month decline across key European markets. According to official industry data, Tesla registered 1,307 new vehicles in France last month, marking a 27% decrease compared to July 2024. The broader French auto market also faced an 8% decline in total car sales during the same period. Denmark posted an even steeper drop, with Tesla sales plunging 52% year-on-year to 336 vehicles. Registrations of the Model Y, the company’s most popular model in Europe, fell 49% in Denmark. In contrast, Denmark’s overall car sales rose 20% in July, highlighting Tesla’s underperformance in the region. The downturn was most severe in Sweden, where Tesla’s new car registrations tumbled 85.8% to just 163 vehicles, based on data from Mobility Sweden. These figures reflect broader headwinds facing Tesla in Europe. The company’s sales have dropped by more than one-third across the continent during the first half of 2025, as it faces intensifying competition from local automakers and Chinese electric vehicle (EV) brands. Price adjustments and ongoing supply chain challenges have further pressured Tesla’s market share in Europe, once a key growth driver for the company’s global expansion strategy. The sustained decline underscores shifting dynamics in the European EV market, where traditional automakers and new entrants are ramping up offerings and incentives to capture demand. Industry analysts note that Tesla’s ability to stabilize sales in Europe will be crucial as it navigates a competitive global EV landscape and prepares for upcoming model updates.'}, {'title': 'Tesla Secures $4.3B Battery Deal with LG Energy for U.S. Storage Projects', 'URL': 'https://econotimes.com/Tesla-Secures-43B-Battery-Deal-with-LG-Energy-for-US-Storage-Projects-1717488', 'body_content': 'Tesla Inc (NASDAQ: TSLA) has signed a $4.3 billion agreement with South Korea’s LG Energy Solution Ltd (KS: 373220) to supply lithium iron phosphate (LFP) batteries for energy storage, according to a Reuters report on Wednesday. The batteries will reportedly be manufactured at LG Energy’s U.S. facility, though specific production timelines were not disclosed. Earlier in the day, LG Energy had confirmed a $4.3 billion battery and storage technology supply contract but did not identify the customer. LG Energy Solution, one of the world’s largest battery manufacturers, is already a major supplier of lithium-ion batteries to Tesla, particularly for the Model 3 and Model Y vehicles produced in China and Europe. This new deal underscores Tesla’s ongoing strategy to diversify its battery supply chain and increase its capacity for energy storage solutions amid growing demand in the renewable energy sector. While the contract specifies lithium iron phosphate batteries, it remains unclear whether the supply will be dedicated solely to Tesla’s energy storage projects, such as Megapack and Powerwall, or also extend to electric vehicle production in the U.S. The move aligns with Tesla’s broader push to ramp up domestic sourcing of battery components, which has become a key priority under U.S. clean energy incentives and supply chain security initiatives. The partnership further strengthens Tesla’s relationship with LG Energy, signaling potential future collaborations as both companies scale production to meet surging global demand for sustainable energy solutions and EV adoption. This deal is expected to bolster Tesla’s energy storage market position and support its long-term growth strategy in North America.'}]\n"
     ]
    }
   ],
   "source": [
    "import nest_asyncio\n",
    "\n",
    "# 이벤트 루프에 패치를 적용합니다.\n",
    "nest_asyncio.apply()\n",
    "\n",
    "results = asyncio.run(scrape_tesla_articles_with_content('tesla'))\n",
    "print(results)"
   ]
  },
  {
   "cell_type": "markdown",
   "id": "983aee3f-bc2e-4aeb-b55c-7f1a3773f133",
   "metadata": {},
   "source": [
    "### LangChain Tool 스타일로 변경"
   ]
  },
  {
   "cell_type": "code",
   "execution_count": 70,
   "id": "03796886-a9c9-4aca-9088-172be8273618",
   "metadata": {},
   "outputs": [],
   "source": [
    "from langchain_core.tools import tool\n",
    "import asyncio\n",
    "from playwright.async_api import async_playwright\n",
    "@tool\n",
    "async def scrape_tesla_articles_with_content(query: str):\n",
    "    \"\"\"\n",
    "    Econotimes에서 관련 기사 제목, URL, 본문을 스크랩하는 함수\n",
    "    사용자가 뉴스 검색, 특정 종목에 대한 동향 분석을 요청할 경우 사용합니다.\n",
    "    예를 들어, tesla에 대한 주식 동향 분석을 요청할 때 이 도구를 이용합니다.\n",
    "    \n",
    "    \"\"\"\n",
    "    \n",
    "    output_list = [] # 최종 결과를 저장할 리스트\n",
    "\n",
    "    async with async_playwright() as p:\n",
    "        # 브라우저 실행\n",
    "        browser = await p.chromium.launch(headless=True)\n",
    "        page = await browser.new_page()\n",
    "\n",
    "        await page.goto(f\"https://econotimes.com/search?v={query}&search=\")\n",
    "        await asyncio.sleep(1.5)\n",
    "\n",
    "        # XPath를 사용해서 모든 기사 제목 요소 찾기\n",
    "        general_xpath = '//*[@id=\"archivePage\"]/div/div[2]/div/p[1]/a'\n",
    "        elements = await page.locator(f\"xpath={general_xpath}\").all()\n",
    "\n",
    "\n",
    "        # 각 기사 제목과 링크 추출\n",
    "        for element in elements[:4]:\n",
    "            await page.goto(f\"https://econotimes.com/search?v={query}&search=\")\n",
    "            await asyncio.sleep(1.5)\n",
    "\n",
    "            title = await element.text_content()\n",
    "            title = title.strip()\n",
    "            href = await element.get_attribute('href')\n",
    "            full_url = f\"https://econotimes.com{href}\" if href.startswith('/') else href\n",
    "            await page.goto(full_url)\n",
    "            await asyncio.sleep(1.5)\n",
    "            # XPath로 본문 추출\n",
    "            xpath = '//*[@id=\"view\"]/div[2]/div[3]/article'\n",
    "            article_text = await page.locator(f\"xpath={xpath}\").text_content()\n",
    "            article_text = article_text.strip()\n",
    "            \n",
    "\n",
    "            output_list.append({\n",
    "                'title': title,\n",
    "                'URL': full_url,\n",
    "                'body_content' : article_text\n",
    "            })\n",
    "\n",
    "\n",
    "        \n",
    "        # 브라우저 종료\n",
    "        await browser.close()\n",
    "\n",
    "        return output_list"
   ]
  },
  {
   "cell_type": "code",
   "execution_count": 77,
   "id": "8351dc9d-c66f-49c6-9d38-b3e89834deaf",
   "metadata": {},
   "outputs": [],
   "source": [
    "from typing import Annotated\n",
    "from typing_extensions import TypedDict\n",
    "from langgraph.graph import StateGraph, START, END\n",
    "from langgraph.graph.message import add_messages\n",
    "import json\n",
    "from langchain_core.messages import ToolMessage, HumanMessage\n",
    "from typing import TypedDict, Annotated, List, Dict, Optional\n",
    "from langgraph.prebuilt import ToolNode\n",
    "\n",
    "class State(TypedDict):\n",
    "    messages: Annotated[list, add_messages]\n",
    "    output_list : List[dict]\n",
    "\n",
    "graph_builder = StateGraph(State)"
   ]
  },
  {
   "cell_type": "code",
   "execution_count": 78,
   "id": "872b8216-63d2-4e6a-97ff-d1294d3c6527",
   "metadata": {},
   "outputs": [],
   "source": [
    "import os\n",
    "os.environ[\"GOOGLE_API_KEY\"] = ''\n",
    "\n",
    "from langchain_google_genai import ChatGoogleGenerativeAI\n",
    "\n",
    "llm = ChatGoogleGenerativeAI(\n",
    "    model=\"gemini-2.5-flash\",\n",
    "    temperature=0,\n",
    "    max_tokens=None,\n",
    "    timeout=None,\n",
    "    max_retries=2,\n",
    "    # other params...\n",
    ")\n",
    "\n",
    "tools = [scrape_tesla_articles_with_content]\n",
    "llm_with_tools = llm.bind_tools(tools)\n",
    "\n",
    "def chatbot(state: State):\n",
    "    return {\"messages\": [llm_with_tools.invoke(state[\"messages\"])]}"
   ]
  },
  {
   "cell_type": "code",
   "execution_count": 79,
   "id": "f18ed8f0-6572-413a-a0b4-b0a2a2226a01",
   "metadata": {},
   "outputs": [
    {
     "data": {
      "text/plain": [
       "<langgraph.graph.state.StateGraph at 0x20cac4b0bc0>"
      ]
     },
     "execution_count": 79,
     "metadata": {},
     "output_type": "execute_result"
    }
   ],
   "source": [
    "graph_builder = StateGraph(State)\n",
    "tool_node = ToolNode(tools=tools)\n",
    "graph_builder.add_node(\"tools\", tool_node)\n",
    "graph_builder.add_node(\"chatbot\", chatbot)\n",
    "\n",
    "def route_tools(state: State):\n",
    "    if isinstance(state, list):\n",
    "        ai_message = state[-1]\n",
    "    elif messages := state.get(\"messages\", []):\n",
    "        ai_message = messages[-1]\n",
    "    else:\n",
    "        raise ValueError(f\"No messages found in input state to tool_edge: {state}\")\n",
    "    if hasattr(ai_message, \"tool_calls\") and len(ai_message.tool_calls) > 0:\n",
    "        return \"tools\"\n",
    "    return END\n",
    "\n",
    "graph_builder.add_conditional_edges(\n",
    "    \"chatbot\",\n",
    "    route_tools,\n",
    "    {\"tools\": \"tools\", END: END},\n",
    ")\n"
   ]
  },
  {
   "cell_type": "code",
   "execution_count": 80,
   "id": "ca9fc9b5-0d1e-49e7-b0d4-8d18d8bab667",
   "metadata": {},
   "outputs": [],
   "source": [
    "graph_builder.add_edge(\"tools\", \"chatbot\")\n",
    "graph_builder.add_edge(START, \"chatbot\")\n",
    "graph = graph_builder.compile()"
   ]
  },
  {
   "cell_type": "code",
   "execution_count": 81,
   "id": "c52f1c8a-78b3-48fa-a036-598d22f014db",
   "metadata": {},
   "outputs": [
    {
     "data": {
      "image/png": "[encoded data removed]",
      "text/plain": [
       "<IPython.core.display.Image object>"
      ]
     },
     "metadata": {},
     "output_type": "display_data"
    }
   ],
   "source": [
    "from IPython.display import Image, display\n",
    "\n",
    "try:\n",
    "    display(Image(graph.get_graph().draw_mermaid_png()))\n",
    "except Exception:\n",
    "    # This requires some extra dependencies and is optional\n",
    "    pass"
   ]
  },
  {
   "cell_type": "code",
   "execution_count": 82,
   "id": "b1f71cd9-af00-4cea-9e8f-9db8440532e6",
   "metadata": {},
   "outputs": [
    {
     "name": "stdin",
     "output_type": "stream",
     "text": [
      "User:  tesla 뉴스 검색 후 동향 분석해줘\n"
     ]
    },
    {
     "name": "stdout",
     "output_type": "stream",
     "text": [
      "--- Agent Start ---\n",
      "🤖 [AIMessage]: Tool Call Planned -> scrape_tesla_articles_with_content({'query': 'tesla'})\n",
      "🛠️ [ToolMessage]: Tool Result -> Error: NotImplementedError('StructuredTool does not support sync invocation.')\n",
      " Please fix your mistakes.\n",
      "💬 [AIMessage]: Final Answer -> 테슬라 뉴스 검색 및 동향 분석을 시도했으나, 도구에서 오류가 발생하여 요청을 처리할 수 없습니다.\n",
      "--- Agent End ---\n"
     ]
    },
    {
     "name": "stdin",
     "output_type": "stream",
     "text": [
      "User:  q\n"
     ]
    },
    {
     "name": "stdout",
     "output_type": "stream",
     "text": [
      "Goodbye!\n"
     ]
    }
   ],
   "source": [
    "from langchain_core.messages import AIMessage\n",
    "def stream_graph_updates_verbose(user_input: str):\n",
    "    \"\"\"모든 중간 단계를 자세히 출력하는 함수\"\"\"\n",
    "    inputs = {\"messages\": [HumanMessage(content=user_input)]}\n",
    "\n",
    "    print(\"--- Agent Start ---\")\n",
    "    for event in graph.stream(inputs, stream_mode=\"values\"):\n",
    "        message = event[\"messages\"][-1]\n",
    "        \n",
    "        # AIMessage이면서 tool_calls가 있는 경우 (계획 단계)\n",
    "        if isinstance(message, AIMessage) and message.tool_calls:\n",
    "            print(f\"🤖 [AIMessage]: Tool Call Planned -> {message.tool_calls[0]['name']}({message.tool_calls[0]['args']})\")\n",
    "        \n",
    "        # ToolMessage인 경우 (실행 결과)\n",
    "        elif isinstance(message, ToolMessage):\n",
    "            print(f\"🛠️ [ToolMessage]: Tool Result -> {message.content}\")\n",
    "\n",
    "        # AIMessage이면서 최종 답변인 경우\n",
    "        elif isinstance(message, AIMessage) and message.content:\n",
    "            print(f\"💬 [AIMessage]: Final Answer -> {message.content}\")\n",
    "    print(\"--- Agent End ---\")\n",
    "\n",
    "while True:\n",
    "    try:\n",
    "        user_input = input(\"User: \")\n",
    "        if user_input.lower() in [\"quit\", \"exit\", \"q\"]:\n",
    "            print(\"Goodbye!\")\n",
    "            break\n",
    "        stream_graph_updates_verbose(user_input)\n",
    "    except Exception as e:\n",
    "        # fallback if input() is not available\n",
    "        print(f\"\\n❌ 오류가 발생했습니다: {e}\\n\")\n",
    "\n",
    "        import traceback\n",
    "        traceback.print_exc()\n",
    "        user_input = \"What do you know about LangGraph?\"\n",
    "        print(\"User: \" + user_input)\n",
    "        stream_graph_updates_verbose(user_input)\n",
    "        break"
   ]
  },
  {
   "cell_type": "markdown",
   "id": "7ec7d66e-6caf-42c2-914c-8cecfa56f61d",
   "metadata": {},
   "source": [
    "### 일반적인 방식으로 그래프 streaming 시, 위 같은 오류 발생. (sync invocation 오류)  \n",
    "- 정의해둔 도구가 비동기 방식이면, 그래프 streaming 방식 또한 async 방식으로 진행해야 비동기 도구를 사용할 수 있음."
   ]
  },
  {
   "cell_type": "code",
   "execution_count": 84,
   "id": "6edb394e-92f8-472e-a70d-52ef813b3b71",
   "metadata": {},
   "outputs": [
    {
     "name": "stdin",
     "output_type": "stream",
     "text": [
      "User:  tesla 뉴스 검색 후 동향 분석해줘\n"
     ]
    },
    {
     "name": "stdout",
     "output_type": "stream",
     "text": [
      "--- Agent Start ---\n",
      "🤖 [AIMessage]: Tool Call Planned -> scrape_tesla_articles_with_content({'query': 'tesla'})\n",
      "🛠️ [ToolMessage]: Tool Result -> [{\"title\": \"Mexico’s 50% Tariff Threatens Tesla and BYD in Booming EV Market\", \"URL\": \"https://econotimes.com/Mexicos-50-Tariff-Threatens-Tesla-and-BYD-in-Booming-EV-Market-1720504\", \"body_content\": \"Mexico’s proposed 50% tariff on vehicles imported from countries without free trade agreements, incl...\n",
      "💬 [AIMessage]: Final Answer -> 테슬라 관련 뉴스 검색 결과에 기반한 동향 분석입니다.\n",
      "\n",
      "**부정적인 동향:**\n",
      "\n",
      "*   **멕시코 관세 위협:** 멕시코가 중국 등 자유무역협정을 맺지 않은 국가에서 수입되는 차량에 50% 관세를 부과할 예정이며, 이는 멕시코에 공장이 없는 테슬라와 BYD에 큰 타격을 줄 것으로 예상됩니다. 테슬라는 멕시코 북부 공장 건설 계획을 중단한 바 있습니다.\n",
      "*   **오토파일럿 관련 소송 패소:** 플로리다 법원 배심원단은 2019년 오토파일럿 관련 사망 사고에 대해 테슬라에 2억 4,300만 달러의 손해배상금을 지급하라고 명령했습니다. 이는 테슬라의 자율주행 기술에 대한 법적 선례를 만들고 추가 소송을 부추길 수 있으며, 회사 주가 하락과 로보택시 사업 확장 계획에 부정적인 영향을 미칠 수 있습니다.\n",
      "*   **유럽 판매량 급감:** 2025년 7월 프랑스, 덴마크, 스웨덴 등 주요 유럽 시장에서 테슬라의 자동차 판매량이 급격히 감소했습니다. 특히 스웨덴에서는 85.8%나 급락했습니다. 이는 유럽 내 경쟁 심화와 공급망 문제로 인한 것으로 보이며, 테슬라의 유럽 시장 점유율 하락을 시사합니다.\n",
      "\n",
      "**긍정적인 동향:**\n",
      "\n",
      "*   **LG 에너지솔루션과의 배터리 공급 계약:** 테슬라는 LG 에너지솔루션과 43억 달러 규모의 리튬인산철(LFP) 배터리 공급 계약을 체결했습니다. 이 배터리는 에너지 저장 장치에 사용될 예정이며, 테슬라의 배터리 공급망 다변화 및 에너지 저장 솔루션 역량 강화에 기여할 것으로 보입니다.\n",
      "\n",
      "**종합적인 동향:**\n",
      "\n",
      "테슬라는 현재 멕시코 관세 위협, 오토파일럿 관련 소송 패소, 유럽 시장 판매량 급감 등 여러 가지 부정적인 요인에 직면해 있습니다. 특히 자율주행 기술에 대한 규제 강화와 경쟁 심화는 테슬라의 핵심 성장 동력에 대한 우려를 키우고 있습니다.\n",
      "\n",
      "다만, LG 에너지솔루션과의 대규모 배터리 공급 계약은 테슬라의 에너지 저장 사업 부문 강화와 공급망 안정화에 긍정적인 영향을 미칠 것으로 예상됩니다.\n",
      "\n",
      "전반적으로 테슬라는 현재 여러 도전 과제에 직면해 있으며, 특히 전기차 시장의 경쟁 심화와 자율주행 기술에 대한 규제 및 법적 리스크 관리가 중요해 보입니다. 동시에 에너지 저장 솔루션과 같은 다른 사업 부문에서의 성장을 통해 이러한 어려움을 극복하려는 노력을 기울이고 있습니다.\n",
      "--- Agent End ---\n"
     ]
    },
    {
     "name": "stdin",
     "output_type": "stream",
     "text": [
      "User:  q\n"
     ]
    },
    {
     "name": "stdout",
     "output_type": "stream",
     "text": [
      "Goodbye!\n"
     ]
    }
   ],
   "source": [
    "import asyncio\n",
    "\n",
    "# 이전에 정의한 async stream_graph_updates_verbose 함수가 있다고 가정\n",
    "\n",
    "# 메인 실행 함수를 만들어서 비동기 코드를 관리\n",
    "async def main():\n",
    "    while True:\n",
    "        try:\n",
    "            user_input = input(\"User: \")\n",
    "            if user_input.lower() in [\"quit\", \"exit\", \"q\"]:\n",
    "                print(\"Goodbye!\")\n",
    "                break\n",
    "            # async 함수이므로 await로 호출\n",
    "            await stream_graph_updates_verbose(user_input)\n",
    "        except (KeyboardInterrupt, EOFError):\n",
    "            print(\"\\nGoodbye!\")\n",
    "            break\n",
    "        except Exception as e:\n",
    "            print(f\"\\n❌ 오류가 발생했습니다: {e}\\n\")\n",
    "            break\n",
    "\n",
    "# 스크립트의 메인 진입점에서 asyncio.run()으로 실행\n",
    "if __name__ == \"__main__\":\n",
    "    asyncio.run(main())"
   ]
  },
  {
   "cell_type": "markdown",
   "id": "847461d8-695c-4dcf-b231-447890bb1b2f",
   "metadata": {},
   "source": [
    "# 실습과제 2"
   ]
  },
  {
   "cell_type": "markdown",
   "id": "fbccc9e1-4bf5-4815-9a81-9f3d04715e17",
   "metadata": {},
   "source": [
    "- 앞서 다룬 LangGraph와 웹검색 tool을 잘 정리하여, Econotimes로부터 웹검색을 수행해주는 Agent를 정의해주세요.\n",
    "- Agent가 출력한 결과 (chat 결과)가 나오게 해주세요.\n",
    "- 코드를 내실 때 API KEY는 제거하고 내주세요.\n",
    "- 조교는 tesla를 예시로 했었는데, 다른 예시로 진행해주세요.\n",
    "- Econotimes말고 다른 웹으로부터 검색을 수행하는 tool을 따로 정의하셔도 무방합니다."
   ]
  },
  {
   "cell_type": "code",
   "execution_count": null,
   "id": "23769ee6-770d-4411-9008-d9c69fc38bf1",
   "metadata": {},
   "outputs": [],
   "source": []
  }
 ],
 "metadata": {
  "kernelspec": {
   "display_name": "Python 3 (ipykernel)",
   "language": "python",
   "name": "python3"
  },
  "language_info": {
   "codemirror_mode": {
    "name": "ipython",
    "version": 3
   },
   "file_extension": ".py",
   "mimetype": "text/x-python",
   "name": "python",
   "nbconvert_exporter": "python",
   "pygments_lexer": "ipython3",
   "version": "3.12.3"
  }
 },
 "nbformat": 4,
 "nbformat_minor": 5
}
