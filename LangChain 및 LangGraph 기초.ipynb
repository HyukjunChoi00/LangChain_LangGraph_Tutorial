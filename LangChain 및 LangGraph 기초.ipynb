{
 "cells": [
  {
   "cell_type": "markdown",
   "id": "5c716f57-2f4f-4768-824e-6a115877d513",
   "metadata": {},
   "source": [
    "# LangChain & LangGraph 입문"
   ]
  },
  {
   "cell_type": "markdown",
   "id": "e7b4436d-608f-4d30-a341-70daab00a497",
   "metadata": {},
   "source": [
    "- LLM 애플리케이션을 만드는 프레임워크"
   ]
  },
  {
   "cell_type": "markdown",
   "id": "cb16d1d4-6600-4a7f-83ea-3845ab0af4e5",
   "metadata": {},
   "source": [
    "https://python.langchain.com/docs/introduction/"
   ]
  },
  {
   "cell_type": "markdown",
   "id": "28a3554e-4fe0-454a-88a0-f7992b7f5d18",
   "metadata": {},
   "source": [
    "## Chat Google Genai 설치\n",
    "```\n",
    "pip install -U langchain-google-genai\n",
    "```"
   ]
  },
  {
   "cell_type": "markdown",
   "id": "7d1fd3aa-2ba3-4110-8071-c32b268b25e0",
   "metadata": {},
   "source": [
    "Google API KEY 발급\n",
    "https://aistudio.google.com/app/apikey?hl=ko\n"
   ]
  },
  {
   "cell_type": "code",
   "execution_count": null,
   "id": "d1271120-8cf6-46ed-9c17-3987aacb74c7",
   "metadata": {},
   "outputs": [],
   "source": [
    "pip install langchain"
   ]
  },
  {
   "cell_type": "code",
   "execution_count": null,
   "id": "2a698a65-0d8e-468e-bab7-5e0420c9c321",
   "metadata": {},
   "outputs": [],
   "source": [
    "pip install -U langgraph langsmith"
   ]
  },
  {
   "cell_type": "markdown",
   "id": "3b5936a4-53d6-44ff-9ac7-deba023f1c61",
   "metadata": {},
   "source": [
    "### API Key 설정"
   ]
  },
  {
   "cell_type": "code",
   "execution_count": null,
   "id": "0b95701b-f77d-4769-bd5b-c5066ae490c1",
   "metadata": {},
   "outputs": [],
   "source": []
  },
  {
   "cell_type": "code",
   "execution_count": null,
   "id": "c995de25-7d37-4602-a092-7758e0cdf5f8",
   "metadata": {},
   "outputs": [],
   "source": [
    "import os\n",
    "os.environ[\"GOOGLE_API_KEY\"] = 'Your API KEY'"
   ]
  },
  {
   "cell_type": "code",
   "execution_count": 32,
   "id": "b0af7a58-4d6b-44de-9b1d-619dcedfa9a5",
   "metadata": {},
   "outputs": [],
   "source": [
    "from langchain_google_genai import ChatGoogleGenerativeAI\n",
    "\n",
    "llm = ChatGoogleGenerativeAI(\n",
    "    model=\"gemini-2.5-flash\",\n",
    "    temperature=0,\n",
    "    max_tokens=None,\n",
    "    timeout=None,\n",
    "    max_retries=2,\n",
    "    # other params...\n",
    ")"
   ]
  },
  {
   "cell_type": "code",
   "execution_count": 3,
   "id": "db442830-2584-4c19-9f4e-4c90eacd8a21",
   "metadata": {},
   "outputs": [
    {
     "data": {
      "text/plain": [
       "AIMessage(content='Hi there! How can I help you today?', additional_kwargs={}, response_metadata={'prompt_feedback': {'block_reason': 0, 'safety_ratings': []}, 'finish_reason': 'STOP', 'model_name': 'gemini-2.5-flash', 'safety_ratings': []}, id='run--e474fee2-0944-4e46-ae64-e2ec1c4acd3e-0', usage_metadata={'input_tokens': 2, 'output_tokens': 164, 'total_tokens': 166, 'input_token_details': {'cache_read': 0}, 'output_token_details': {'reasoning': 154}})"
      ]
     },
     "execution_count": 3,
     "metadata": {},
     "output_type": "execute_result"
    }
   ],
   "source": [
    "llm.invoke('hi')"
   ]
  },
  {
   "cell_type": "markdown",
   "id": "47cffb62-1bf8-4a9a-9a29-fc5c1bf8d1bb",
   "metadata": {},
   "source": [
    "### LangChain 기초 - Prompt와 LLM chain"
   ]
  },
  {
   "cell_type": "code",
   "execution_count": 15,
   "id": "47c495c2-7abf-40f2-9255-db37a83c439f",
   "metadata": {},
   "outputs": [
    {
     "name": "stdout",
     "output_type": "stream",
     "text": [
      "인공지능(AI)은 기계가 인간처럼 사고하고 학습하며 문제를 해결하는 능력을 갖추도록 하는 기술입니다. 데이터를 분석하고 패턴을 인식하여 의사결정을 내리거나 특정 작업을 수행합니다. 궁극적으로는 복잡한 작업을 자동화하고 인간의 능력을 보완하며 확장하는 것을 목표로 합니다.\n"
     ]
    }
   ],
   "source": [
    "from langchain_google_genai import ChatGoogleGenerativeAI\n",
    "from langchain_core.prompts import ChatPromptTemplate\n",
    "from langchain_core.output_parsers import StrOutputParser\n",
    "\n",
    "\n",
    "prompt = ChatPromptTemplate.from_template(\n",
    "    \"{topic}에 대해 세 문장으로 간결하게 설명해주세요.\"\n",
    ")\n",
    "output_parser = StrOutputParser()\n",
    "chain = prompt | llm | output_parser\n",
    "response = chain.invoke({\"topic\": \"인공지능\"})\n",
    "print(response)"
   ]
  },
  {
   "cell_type": "code",
   "execution_count": 18,
   "id": "ebe6b4dc-fbe7-4276-803a-cb73f11fd6b8",
   "metadata": {},
   "outputs": [
    {
     "name": "stdout",
     "output_type": "stream",
     "text": [
      "Artificial intelligence (AI) refers to the simulation of human intelligence in machines that are programmed to think like humans and mimic their actions. The term can also be applied to any machine that exhibits traits associated with a human mind, such as learning and problem-solving.\n"
     ]
    }
   ],
   "source": [
    "from langchain_google_genai import ChatGoogleGenerativeAI\n",
    "from langchain_core.prompts import ChatPromptTemplate\n",
    "from langchain_core.output_parsers import StrOutputParser\n",
    "\n",
    "\n",
    "prompt = ChatPromptTemplate.from_template(\n",
    "    \"Answer the following question in English only: {input}\"\n",
    ")\n",
    "output_parser = StrOutputParser()  # LLM의 출력(ChatMessage)을 간단한 문자열(string) 형태로 변환합니다.\n",
    "chain = prompt | llm | output_parser   # 프롬프트, LLM, ouput_parser를 연결하는 chain을 정의합니다.\n",
    "response = chain.invoke({\"input\" : \"인공지능이란?\"})\n",
    "print(response)"
   ]
  },
  {
   "cell_type": "code",
   "execution_count": null,
   "id": "b0ed692f-8062-4766-953d-dfb3fcc54184",
   "metadata": {},
   "outputs": [],
   "source": []
  },
  {
   "cell_type": "markdown",
   "id": "7ce469c8-54dc-4a2d-afc7-fd6cf849132d",
   "metadata": {},
   "source": [
    "### React Agent 만들기\n",
    "- memory, tool 결합"
   ]
  },
  {
   "cell_type": "code",
   "execution_count": 4,
   "id": "b350770e-dd5c-4b29-9f2f-3ebf87747610",
   "metadata": {},
   "outputs": [],
   "source": [
    "from langgraph.checkpoint.memory import MemorySaver\n",
    "from langgraph.prebuilt import create_react_agent\n",
    "from langchain.chat_models import init_chat_model\n",
    "memory = MemorySaver()\n",
    "model = init_chat_model(\"google_genai:gemini-2.5-flash\")\n",
    "tools = []\n",
    "agent_executor = create_react_agent(model, tools, checkpointer=memory)"
   ]
  },
  {
   "cell_type": "code",
   "execution_count": 5,
   "id": "6fc3e892-8e5c-49cf-adba-5eb0167b10a6",
   "metadata": {},
   "outputs": [
    {
     "name": "stdout",
     "output_type": "stream",
     "text": [
      "================================\u001b[1m Human Message \u001b[0m=================================\n",
      "\n",
      "Hi, I'm Bob and I live in SF.\n",
      "==================================\u001b[1m Ai Message \u001b[0m==================================\n",
      "\n",
      "Hi Bob, nice to meet you! San Francisco is a fantastic city.\n",
      "\n",
      "How can I help you today, or what's on your mind?\n"
     ]
    }
   ],
   "source": [
    "config = {\"configurable\": {\"thread_id\": \"abc123\"}}\n",
    "input_message = {\n",
    "    \"role\": \"user\",\n",
    "    \"content\": \"Hi, I'm Bob and I live in SF.\",\n",
    "}\n",
    "for step in agent_executor.stream(\n",
    "    {\"messages\": [input_message]}, config, stream_mode=\"values\"\n",
    "):\n",
    "    step[\"messages\"][-1].pretty_print()"
   ]
  },
  {
   "cell_type": "code",
   "execution_count": 6,
   "id": "6efd788c-2ea5-4557-a5d0-0474a0eaffe0",
   "metadata": {},
   "outputs": [
    {
     "name": "stdout",
     "output_type": "stream",
     "text": [
      "================================\u001b[1m Human Message \u001b[0m=================================\n",
      "\n",
      "Do you know where i live?\n",
      "==================================\u001b[1m Ai Message \u001b[0m==================================\n",
      "\n",
      "Yes, based on what you told me in your first message, you live in **San Francisco (SF)**.\n",
      "\n",
      "As an AI, I only know the information you provide me during our conversation, so I don't have any external knowledge about your personal location beyond what you explicitly state.\n"
     ]
    }
   ],
   "source": [
    "config = {\"configurable\": {\"thread_id\": \"abc123\"}}\n",
    "input_message = {\n",
    "    \"role\": \"user\",\n",
    "    \"content\": \"Do you know where i live?\",\n",
    "}\n",
    "for step in agent_executor.stream(\n",
    "    {\"messages\": [input_message]}, config, stream_mode=\"values\"\n",
    "):\n",
    "    step[\"messages\"][-1].pretty_print()"
   ]
  },
  {
   "cell_type": "markdown",
   "id": "a2e72303-0be5-4689-b57d-20f889d88612",
   "metadata": {},
   "source": [
    "### LangChain의 Tool 정의"
   ]
  },
  {
   "cell_type": "markdown",
   "id": "d63f688e-c05e-4604-973e-c18a681e6990",
   "metadata": {},
   "source": [
    "- 특정 Task를 요청받았을 때, 사용자가 미리 정의해준 tool을 활용해서 문제를 해결할 수 있게 함"
   ]
  },
  {
   "cell_type": "code",
   "execution_count": 7,
   "id": "165e8734-e1a1-49cc-bf32-85733fc75320",
   "metadata": {},
   "outputs": [],
   "source": [
    "from langchain_core.tools import tool\n",
    "\n",
    "@tool\n",
    "def multiply(a: int, b: int) -> int:\n",
    "   \"\"\"Multiply two numbers.\"\"\"\n",
    "   return a * b\n"
   ]
  },
  {
   "cell_type": "code",
   "execution_count": 8,
   "id": "11b3293d-34ee-4b0d-b2d6-6c7e9b8ad67b",
   "metadata": {},
   "outputs": [],
   "source": [
    "tools = [multiply]\n",
    "agent_executor = create_react_agent(model, tools, checkpointer=memory)"
   ]
  },
  {
   "cell_type": "code",
   "execution_count": 9,
   "id": "55a110ad-9d7b-4c67-8473-fab7d11c3c28",
   "metadata": {},
   "outputs": [
    {
     "name": "stdout",
     "output_type": "stream",
     "text": [
      "================================\u001b[1m Human Message \u001b[0m=================================\n",
      "\n",
      "31 곱하기 27은?\n",
      "==================================\u001b[1m Ai Message \u001b[0m==================================\n",
      "Tool Calls:\n",
      "  multiply (91743f73-44fe-4a27-b021-117785d011a1)\n",
      " Call ID: 91743f73-44fe-4a27-b021-117785d011a1\n",
      "  Args:\n",
      "    b: 27.0\n",
      "    a: 31.0\n",
      "=================================\u001b[1m Tool Message \u001b[0m=================================\n",
      "Name: multiply\n",
      "\n",
      "837\n",
      "==================================\u001b[1m Ai Message \u001b[0m==================================\n",
      "\n",
      "31 곱하기 27은 837입니다.\n"
     ]
    }
   ],
   "source": [
    "config = {\"configurable\": {\"thread_id\": \"abc123\"}}\n",
    "input_message = {\n",
    "    \"role\": \"user\",\n",
    "    \"content\": \"31 곱하기 27은?\",\n",
    "}\n",
    "for step in agent_executor.stream(\n",
    "    {\"messages\": [input_message]}, config, stream_mode=\"values\"\n",
    "):\n",
    "    step[\"messages\"][-1].pretty_print()"
   ]
  },
  {
   "cell_type": "markdown",
   "id": "aaa178a8-fadf-4a74-b112-74deead12730",
   "metadata": {},
   "source": [
    "# LangGraph"
   ]
  },
  {
   "cell_type": "markdown",
   "id": "08eba682-5d4f-415a-8323-54464e766224",
   "metadata": {},
   "source": [
    "### 1. LLM 정의"
   ]
  },
  {
   "cell_type": "code",
   "execution_count": 54,
   "id": "33d80a3f-7830-48a7-963f-d5de224b1a4b",
   "metadata": {},
   "outputs": [],
   "source": [
    "from langchain_google_genai import ChatGoogleGenerativeAI\n",
    "\n",
    "llm = ChatGoogleGenerativeAI(\n",
    "    model=\"gemini-2.5-flash\",\n",
    "    temperature=0,\n",
    "    max_tokens=None,\n",
    "    timeout=None,\n",
    "    max_retries=2,\n",
    "    # other params...\n",
    ")"
   ]
  },
  {
   "cell_type": "markdown",
   "id": "0d9ae311-0df8-47bb-801c-ca3856c613ad",
   "metadata": {},
   "source": [
    "### 2. State Graph 정의\n",
    "- class State라는 클래스에, 이후에 정의할 변수의 타입을 지정해주어야 합니다.\n",
    "- "
   ]
  },
  {
   "cell_type": "code",
   "execution_count": 55,
   "id": "645ce19d-c1c2-4509-8a91-36f8d6c28c64",
   "metadata": {},
   "outputs": [],
   "source": [
    "from typing import Annotated\n",
    "\n",
    "from typing_extensions import TypedDict\n",
    "\n",
    "from langgraph.graph import StateGraph, START, END\n",
    "from langgraph.graph.message import add_messages\n",
    "\n",
    "\n",
    "class State(TypedDict):\n",
    "    # Messages have the type \"list\". The `add_messages` function\n",
    "    # in the annotation defines how this state key should be updated\n",
    "    # (in this case, it appends messages to the list, rather than overwriting them)\n",
    "    messages: Annotated[list, add_messages]\n",
    "    # messages라는 변수는 리스트이며, add_messages라는 설명서를 덧붙인다는 의미\n",
    "    # add_messages : 메시지 리스트를 덮어쓰지 않고, 새로운 메시지를 뒤에 추가해나간다는 의미\n",
    "    \n",
    "\n",
    "\n",
    "graph_builder = StateGraph(State)"
   ]
  },
  {
   "cell_type": "code",
   "execution_count": 56,
   "id": "d98532ee-8981-4879-b174-bbbe40438828",
   "metadata": {},
   "outputs": [
    {
     "data": {
      "text/plain": [
       "<langgraph.graph.state.StateGraph at 0x15083506de0>"
      ]
     },
     "execution_count": 56,
     "metadata": {},
     "output_type": "execute_result"
    }
   ],
   "source": [
    "def chatbot(state: State):\n",
    "    return {\"messages\": [llm.invoke(state[\"messages\"])]}\n",
    "\n",
    "graph_builder.add_node(\"chatbot\", chatbot)   # .add_node로 그래프의 노드를 추가합니다."
   ]
  },
  {
   "cell_type": "code",
   "execution_count": 10,
   "id": "60f3da14-1be6-46a6-9a2c-62d7f9a9ca25",
   "metadata": {},
   "outputs": [
    {
     "data": {
      "text/plain": [
       "<langgraph.graph.state.StateGraph at 0x22471b2ca70>"
      ]
     },
     "execution_count": 10,
     "metadata": {},
     "output_type": "execute_result"
    }
   ],
   "source": [
    "graph_builder.add_edge(START, \"chatbot\")   # 어디서 어디로 보낼건지 정의해줘야 합니다. START --> chatbot"
   ]
  },
  {
   "cell_type": "code",
   "execution_count": 11,
   "id": "3d227e87-d876-4ae6-91aa-ea4afe7c98ac",
   "metadata": {},
   "outputs": [
    {
     "data": {
      "text/plain": [
       "<langgraph.graph.state.StateGraph at 0x22471b2ca70>"
      ]
     },
     "execution_count": 11,
     "metadata": {},
     "output_type": "execute_result"
    }
   ],
   "source": [
    "graph_builder.add_edge(\"chatbot\", END)  # chatbot --> END"
   ]
  },
  {
   "cell_type": "code",
   "execution_count": 12,
   "id": "c6223ad0-a84c-4fd5-aa0f-f8b85f740a3a",
   "metadata": {},
   "outputs": [],
   "source": [
    "graph = graph_builder.compile()"
   ]
  },
  {
   "cell_type": "markdown",
   "id": "8c27ee47-a7e8-482b-9070-8300ccfffc70",
   "metadata": {},
   "source": [
    "### 그래프 시각화"
   ]
  },
  {
   "cell_type": "code",
   "execution_count": 13,
   "id": "7e03c005-bef8-408b-bbaa-b462598f8675",
   "metadata": {},
   "outputs": [
    {
     "data": {
      "image/png": "[encoded data removed]",
      "text/plain": [
       "<IPython.core.display.Image object>"
      ]
     },
     "metadata": {},
     "output_type": "display_data"
    }
   ],
   "source": [
    "from IPython.display import Image, display\n",
    "\n",
    "try:\n",
    "    display(Image(graph.get_graph().draw_mermaid_png()))\n",
    "except Exception:\n",
    "    # This requires some extra dependencies and is optional\n",
    "    pass"
   ]
  },
  {
   "cell_type": "code",
   "execution_count": 14,
   "id": "ea01c0d0-9f88-4487-9a73-996c2b1b2512",
   "metadata": {},
   "outputs": [
    {
     "name": "stdin",
     "output_type": "stream",
     "text": [
      "User:  안녕\n"
     ]
    },
    {
     "name": "stdout",
     "output_type": "stream",
     "text": [
      "Assistant: 안녕!\n"
     ]
    },
    {
     "name": "stdin",
     "output_type": "stream",
     "text": [
      "User:  0.99999999999999는 1이라고 할 수 있니?\n"
     ]
    },
    {
     "name": "stdout",
     "output_type": "stream",
     "text": [
      "Assistant: 아니요, 수학적으로 엄밀히 말하면 **0.99999999999999는 1이 아닙니다.**\n",
      "\n",
      "*   **수학적으로:** 0.99999999999999는 1보다 아주 미세하게 작습니다. 정확히 말하면 1에서 0.00000000000001을 뺀 값입니다.\n",
      "    *   1 - 0.99999999999999 = 0.00000000000001\n",
      "\n",
      "*   **하지만:**\n",
      "    *   만약 **0.999... (9가 무한히 반복되는 숫자)** 였다면, 이 숫자는 수학적으로 **정확히 1과 같습니다.** (이것은 많은 사람들이 헷갈려 하는 부분이지만, 수학적으로 증명된 사실입니다.)\n",
      "    *   질문하신 숫자는 9가 유한하게 (14개) 반복되므로 1과 같지 않습니다.\n",
      "\n",
      "*   **실용적인 관점에서는:** 일상생활이나 특정 계산에서 매우 작은 오차를 무시해도 되는 경우라면 '거의 1이다' 또는 '1로 간주할 수 있다'고 말할 수는 있습니다. 예를 들어, 컴퓨터의 부동소수점 연산에서는 이 정도의 차이는 무시되거나 반올림되어 1로 처리될 수도 있습니다.\n",
      "\n",
      "**결론적으로, 수학적으로는 1이 아니지만, 실용적인 관점에서는 1에 매우 가깝습니다.**\n"
     ]
    },
    {
     "name": "stdin",
     "output_type": "stream",
     "text": [
      "User:  q\n"
     ]
    },
    {
     "name": "stdout",
     "output_type": "stream",
     "text": [
      "Goodbye!\n"
     ]
    }
   ],
   "source": [
    "def stream_graph_updates(user_input: str):\n",
    "    for event in graph.stream({\"messages\": [{\"role\": \"user\", \"content\": user_input}]}):\n",
    "        for value in event.values():\n",
    "            print(\"Assistant:\", value[\"messages\"][-1].content)\n",
    "\n",
    "\n",
    "while True:\n",
    "    try:\n",
    "        user_input = input(\"User: \")\n",
    "        if user_input.lower() in [\"quit\", \"exit\", \"q\"]:\n",
    "            print(\"Goodbye!\")\n",
    "            break\n",
    "        stream_graph_updates(user_input)\n",
    "    except:\n",
    "        # fallback if input() is not available\n",
    "        user_input = \"What do you know about LangGraph?\"\n",
    "        print(\"User: \" + user_input)\n",
    "        stream_graph_updates(user_input)\n",
    "        break"
   ]
  },
  {
   "cell_type": "markdown",
   "id": "fcc7ba48-18f4-47a7-bd72-944a737607bc",
   "metadata": {},
   "source": [
    "### 그래프에 Tool 추가"
   ]
  },
  {
   "cell_type": "code",
   "execution_count": 11,
   "id": "8c4330ab-f128-4e1d-baf9-67d172186598",
   "metadata": {},
   "outputs": [],
   "source": [
    "from typing import Annotated\n",
    "from typing_extensions import TypedDict\n",
    "from langgraph.graph import StateGraph, START, END\n",
    "from langgraph.graph.message import add_messages\n",
    "import json\n",
    "from langchain_core.messages import ToolMessage, HumanMessage\n",
    "\n",
    "\n",
    "class State(TypedDict):\n",
    "    messages: Annotated[list, add_messages]\n",
    "    \n",
    "graph_builder = StateGraph(State)\n",
    "\n",
    "from langchain_google_genai import ChatGoogleGenerativeAI\n",
    "llm = ChatGoogleGenerativeAI(\n",
    "    model=\"gemini-2.5-flash\",\n",
    "    temperature=0,\n",
    "    max_tokens=None,\n",
    "    timeout=None,\n",
    "    max_retries=2,\n",
    "    # other params...\n",
    ")"
   ]
  },
  {
   "cell_type": "code",
   "execution_count": 12,
   "id": "4ffa33d6-48e0-4883-ab4a-d3646f9ac2b0",
   "metadata": {},
   "outputs": [],
   "source": [
    "from langchain_core.tools import tool\n",
    "@tool\n",
    "def multiply(a: int, b: int) -> int:\n",
    "   \"\"\"Multiply two numbers.\"\"\"\n",
    "   return a * b"
   ]
  },
  {
   "cell_type": "code",
   "execution_count": 13,
   "id": "006c00fc-4fea-4858-a2c3-f3e3d89ab66a",
   "metadata": {},
   "outputs": [],
   "source": [
    "tools = [multiply]\n",
    "class BasicToolNode:\n",
    "    def __init__(self, tools: list) -> None:\n",
    "        self.tools_by_name = {tool.name: tool for tool in tools}\n",
    "\n",
    "    def __call__(self, inputs: dict):\n",
    "        if messages := inputs.get(\"messages\", []):\n",
    "            message = messages[-1]\n",
    "        else:\n",
    "            raise ValueError(\"No message found in input\")\n",
    "        outputs = []\n",
    "        for tool_call in message.tool_calls:\n",
    "            tool_result = self.tools_by_name[tool_call[\"name\"]].invoke(\n",
    "                tool_call[\"args\"]\n",
    "            )\n",
    "            outputs.append(\n",
    "                ToolMessage(\n",
    "                    content=json.dumps(tool_result) if not isinstance(tool_result, str) else tool_result,\n",
    "                    name=tool_call[\"name\"],\n",
    "                    tool_call_id=tool_call[\"id\"],\n",
    "                )\n",
    "            )\n",
    "        return {\"messages\": outputs}"
   ]
  },
  {
   "cell_type": "code",
   "execution_count": 14,
   "id": "f21046c2-993b-4b42-b9d1-8e7f2c4b6005",
   "metadata": {},
   "outputs": [
    {
     "data": {
      "text/plain": [
       "<langgraph.graph.state.StateGraph at 0x28d16072ea0>"
      ]
     },
     "execution_count": 14,
     "metadata": {},
     "output_type": "execute_result"
    }
   ],
   "source": [
    "graph_builder = StateGraph(State)\n",
    "tool_node = BasicToolNode(tools=tools)\n",
    "graph_builder.add_node(\"tools\", tool_node)"
   ]
  },
  {
   "cell_type": "code",
   "execution_count": 15,
   "id": "e6c3521d-74a6-4e39-801d-1bf4fcb43638",
   "metadata": {},
   "outputs": [
    {
     "data": {
      "text/plain": [
       "<langgraph.graph.state.StateGraph at 0x28d16072ea0>"
      ]
     },
     "execution_count": 15,
     "metadata": {},
     "output_type": "execute_result"
    }
   ],
   "source": [
    "llm_with_tools = llm.bind_tools(tools)\n",
    "def chatbot(state: State):\n",
    "    return {\"messages\": [llm_with_tools.invoke(state[\"messages\"])]}\n",
    "\n",
    "graph_builder.add_node(\"chatbot\", chatbot)"
   ]
  },
  {
   "cell_type": "code",
   "execution_count": 16,
   "id": "91c0fd04-87cd-4d91-aa64-1ef2fb6d9de4",
   "metadata": {},
   "outputs": [],
   "source": [
    "def route_tools(state: State):\n",
    "    if isinstance(state, list):\n",
    "        ai_message = state[-1]\n",
    "    elif messages := state.get(\"messages\", []):\n",
    "        ai_message = messages[-1]\n",
    "    else:\n",
    "        raise ValueError(f\"No messages found in input state to tool_edge: {state}\")\n",
    "    if hasattr(ai_message, \"tool_calls\") and len(ai_message.tool_calls) > 0:\n",
    "        return \"tools\"\n",
    "    return END"
   ]
  },
  {
   "cell_type": "code",
   "execution_count": 17,
   "id": "46bfbf2e-f412-4d3a-b6f6-7b365c1adff7",
   "metadata": {},
   "outputs": [],
   "source": [
    "graph_builder.add_conditional_edges(\n",
    "    \"chatbot\",\n",
    "    route_tools,\n",
    "    {\"tools\": \"tools\", END: END},\n",
    ")\n",
    "graph_builder.add_edge(\"tools\", \"chatbot\")\n",
    "graph_builder.add_edge(START, \"chatbot\")\n",
    "graph = graph_builder.compile()"
   ]
  },
  {
   "cell_type": "code",
   "execution_count": 9,
   "id": "8243a197-0666-40c3-98f8-a5dc8ed2c964",
   "metadata": {},
   "outputs": [
    {
     "data": {
      "image/png": "[encoded data removed]",
      "text/plain": [
       "<IPython.core.display.Image object>"
      ]
     },
     "metadata": {},
     "output_type": "display_data"
    }
   ],
   "source": [
    "from IPython.display import Image, display\n",
    "\n",
    "try:\n",
    "    display(Image(graph.get_graph().draw_mermaid_png()))\n",
    "except Exception:\n",
    "    # This requires some extra dependencies and is optional\n",
    "    pass"
   ]
  },
  {
   "cell_type": "code",
   "execution_count": 18,
   "id": "01488eff-6625-4a3a-b1cf-f4bc9aec1d2b",
   "metadata": {},
   "outputs": [
    {
     "name": "stdin",
     "output_type": "stream",
     "text": [
      "User:  31 곱하기 2\n"
     ]
    },
    {
     "name": "stdout",
     "output_type": "stream",
     "text": [
      "Assistant: \n",
      "Assistant: 62\n",
      "Assistant: 31 곱하기 2는 62입니다.\n"
     ]
    },
    {
     "name": "stdin",
     "output_type": "stream",
     "text": [
      "User:  q\n"
     ]
    },
    {
     "name": "stdout",
     "output_type": "stream",
     "text": [
      "Goodbye!\n"
     ]
    }
   ],
   "source": [
    "def stream_graph_updates(user_input: str):\n",
    "    for event in graph.stream({\"messages\": [{\"role\": \"user\", \"content\": user_input}]}):\n",
    "        for value in event.values():\n",
    "            print(\"Assistant:\", value[\"messages\"][-1].content)\n",
    "\n",
    "\n",
    "while True:\n",
    "    try:\n",
    "        user_input = input(\"User: \")\n",
    "        if user_input.lower() in [\"quit\", \"exit\", \"q\"]:\n",
    "            print(\"Goodbye!\")\n",
    "            break\n",
    "        stream_graph_updates(user_input)\n",
    "    except:\n",
    "        # fallback if input() is not available\n",
    "        user_input = \"What do you know about LangGraph?\"\n",
    "        print(\"User: \" + user_input)\n",
    "        stream_graph_updates(user_input)\n",
    "        break"
   ]
  },
  {
   "cell_type": "code",
   "execution_count": 21,
   "id": "b9fe218b-43ce-4201-98cc-46d917d41d6a",
   "metadata": {},
   "outputs": [
    {
     "name": "stdin",
     "output_type": "stream",
     "text": [
      "User:  61 곱하기 2\n"
     ]
    },
    {
     "name": "stdout",
     "output_type": "stream",
     "text": [
      "--- Agent Start ---\n",
      "🤖 [AIMessage]: Tool Call Planned -> multiply({'b': 2.0, 'a': 61.0})\n",
      "🛠️ [ToolMessage]: Tool Result -> 122\n",
      "💬 [AIMessage]: Final Answer -> 61 곱하기 2는 122입니다.\n",
      "--- Agent End ---\n"
     ]
    },
    {
     "name": "stdin",
     "output_type": "stream",
     "text": [
      "User:  q\n"
     ]
    },
    {
     "name": "stdout",
     "output_type": "stream",
     "text": [
      "Goodbye!\n"
     ]
    }
   ],
   "source": [
    "from langchain_core.messages import AIMessage\n",
    "def stream_graph_updates_verbose(user_input: str):\n",
    "    \"\"\"모든 중간 단계를 자세히 출력하는 함수\"\"\"\n",
    "    inputs = {\"messages\": [HumanMessage(content=user_input)]}\n",
    "\n",
    "    print(\"--- Agent Start ---\")\n",
    "    for event in graph.stream(inputs, stream_mode=\"values\"):\n",
    "        message = event[\"messages\"][-1]\n",
    "        \n",
    "        # AIMessage이면서 tool_calls가 있는 경우 (계획 단계)\n",
    "        if isinstance(message, AIMessage) and message.tool_calls:\n",
    "            print(f\"🤖 [AIMessage]: Tool Call Planned -> {message.tool_calls[0]['name']}({message.tool_calls[0]['args']})\")\n",
    "        \n",
    "        # ToolMessage인 경우 (실행 결과)\n",
    "        elif isinstance(message, ToolMessage):\n",
    "            print(f\"🛠️ [ToolMessage]: Tool Result -> {message.content}\")\n",
    "\n",
    "        # AIMessage이면서 최종 답변인 경우\n",
    "        elif isinstance(message, AIMessage) and message.content:\n",
    "            print(f\"💬 [AIMessage]: Final Answer -> {message.content}\")\n",
    "    print(\"--- Agent End ---\")\n",
    "\n",
    "while True:\n",
    "    try:\n",
    "        user_input = input(\"User: \")\n",
    "        if user_input.lower() in [\"quit\", \"exit\", \"q\"]:\n",
    "            print(\"Goodbye!\")\n",
    "            break\n",
    "        stream_graph_updates_verbose(user_input)\n",
    "    except:\n",
    "        # fallback if input() is not available\n",
    "        user_input = \"What do you know about LangGraph?\"\n",
    "        print(\"User: \" + user_input)\n",
    "        stream_graph_updates_verbose(user_input)\n",
    "        break"
   ]
  },
  {
   "cell_type": "markdown",
   "id": "d49bca60-80d6-46da-a195-ae8f16075a52",
   "metadata": {},
   "source": [
    "# 실습 과제 1"
   ]
  },
  {
   "cell_type": "markdown",
   "id": "5506dc74-2df1-452c-a51c-1f8bdd9306a7",
   "metadata": {},
   "source": [
    "지금까지 배운 LangChain 기초를 토대로, 아래 함수를 LLM의 tool로 등록하여, 두 날짜를 입력했을 때 두 날짜 사이의 전체 일수를 계산해주는 시스템을 구현"
   ]
  },
  {
   "cell_type": "markdown",
   "id": "ed271877-0821-4a6c-909e-f9ae9a6a2c45",
   "metadata": {},
   "source": [
    "입력 : 2025년 12월 1일과 2025년 9월 16일은 몇 일 차이가 나?"
   ]
  },
  {
   "cell_type": "code",
   "execution_count": 4,
   "id": "9710104a-1bff-46bd-9611-a441471e43aa",
   "metadata": {},
   "outputs": [
    {
     "name": "stdout",
     "output_type": "stream",
     "text": [
      "364\n"
     ]
    }
   ],
   "source": [
    "from datetime import datetime\n",
    "\n",
    "def calculate_days_between(start_date: str, end_date: str) -> int:\n",
    "    \"\"\"두 날짜 사이의 전체 일수를 계산합니다. 날짜는 'YYYY-MM-DD' 형식이어야 합니다.\"\"\"\n",
    "    try:\n",
    "        start = datetime.strptime(start_date, \"%Y-%m-%d\")\n",
    "        end = datetime.strptime(end_date, \"%Y-%m-%d\")\n",
    "        delta = abs((end - start).days)\n",
    "        return delta\n",
    "    except ValueError:\n",
    "        return \"날짜 형식이 잘못되었습니다. 'YYYY-MM-DD' 형식으로 입력해주세요.\"\n",
    "\n",
    "# 함수 테스트\n",
    "print(calculate_days_between(\"2025-01-01\", \"2025-12-31\"))"
   ]
  },
  {
   "cell_type": "code",
   "execution_count": 6,
   "id": "6db9c887-3722-4a9c-ae91-8767aa93a8c3",
   "metadata": {},
   "outputs": [],
   "source": []
  },
  {
   "cell_type": "code",
   "execution_count": 8,
   "id": "48a700b2-478f-4c02-b71f-7330257a215c",
   "metadata": {},
   "outputs": [],
   "source": [
    "\n"
   ]
  },
  {
   "cell_type": "code",
   "execution_count": 9,
   "id": "82e29635-3a5a-4cd2-a7d1-a47d2b8f02cd",
   "metadata": {},
   "outputs": [
    {
     "name": "stdout",
     "output_type": "stream",
     "text": [
      "================================\u001b[1m Human Message \u001b[0m=================================\n",
      "\n",
      "2025년 12월 1일과 2025년 9월 16일은 몇 일 차이가 나?\n",
      "==================================\u001b[1m Ai Message \u001b[0m==================================\n",
      "Tool Calls:\n",
      "  calculate_days_between (6a1066be-f05e-4e2b-9c71-e35abecc32ad)\n",
      " Call ID: 6a1066be-f05e-4e2b-9c71-e35abecc32ad\n",
      "  Args:\n",
      "    start_date: 2025-09-16\n",
      "    end_date: 2025-12-01\n",
      "=================================\u001b[1m Tool Message \u001b[0m=================================\n",
      "Name: calculate_days_between\n",
      "\n",
      "76\n",
      "==================================\u001b[1m Ai Message \u001b[0m==================================\n",
      "\n",
      "2025년 9월 16일과 2025년 12월 1일은 76일 차이가 납니다.\n"
     ]
    }
   ],
   "source": []
  }
 ],
 "metadata": {
  "kernelspec": {
   "display_name": "Python 3 (ipykernel)",
   "language": "python",
   "name": "python3"
  },
  "language_info": {
   "codemirror_mode": {
    "name": "ipython",
    "version": 3
   },
   "file_extension": ".py",
   "mimetype": "text/x-python",
   "name": "python",
   "nbconvert_exporter": "python",
   "pygments_lexer": "ipython3",
   "version": "3.12.3"
  }
 },
 "nbformat": 4,
 "nbformat_minor": 5
}
